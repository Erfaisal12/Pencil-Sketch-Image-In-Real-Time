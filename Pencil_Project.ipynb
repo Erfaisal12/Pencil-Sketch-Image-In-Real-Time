{
 "cells": [
  {
   "cell_type": "code",
   "execution_count": 1,
   "id": "ee8afafd",
   "metadata": {},
   "outputs": [],
   "source": [
    "import numpy as np\n",
    "import cv2"
   ]
  },
  {
   "cell_type": "code",
   "execution_count": 2,
   "id": "7b86caca",
   "metadata": {},
   "outputs": [],
   "source": [
    "img=cv2.imread('./Project_4_Pencil_sketch_GUI/Project_Pencil_sketch_GUI/images/friends.jpg')\n",
    "#img=cv2.imread('./Project_4_Pencil_sketch_GUI/Project_Pencil_sketch_GUI/images/Profile2.jpeg')\n",
    "#cv2.imshow('Friends',img)\n",
    "cv2.waitKey(0)\n",
    "cv2.destroyAllWindows()"
   ]
  },
  {
   "cell_type": "markdown",
   "id": "5833efc2",
   "metadata": {},
   "source": [
    "  ![image](Project_4_Pencil_sketch_GUI/Project_Pencil_sketch_GUI/images/pencil_sketch_flow.PNG)"
   ]
  },
  {
   "cell_type": "code",
   "execution_count": 3,
   "id": "97b259f0",
   "metadata": {},
   "outputs": [],
   "source": [
    "def pencil_sketch_image(img,ksize,gamma):\n",
    "    #Step1: Orginal Image to Gray Image\n",
    "\n",
    "    gray=cv2.cvtColor(img,cv2.COLOR_BGR2GRAY)\n",
    "\n",
    "    #Step2: Gray Image to Gaussian Blur\n",
    "    blur=cv2.GaussianBlur(gray,(ksize,ksize),0)\n",
    "\n",
    "    #Step3: Convert into division Image\n",
    "    division_image=cv2.divide(gray,blur,scale=256)\n",
    "\n",
    "    #Step4: Convert into inverse gamma\n",
    "   \n",
    "    if gamma==0:\n",
    "        gamma=0.1\n",
    "    elif gamma < 0:\n",
    "        raise Exception('Cannot be negative','gamma value can not be negative (range=0-1)')\n",
    "    elif gamma >1:\n",
    "        raise Exception('Cannot be Greater than one','gamma value cannot be one (range=0-1)')\n",
    "    invgamma=1/gamma\n",
    "    lut=np.array([((i/255)**invgamma)*255 for i in range(0,256)])\n",
    "    pencil_sketch_img=cv2.LUT(division_image.astype('uint8'),lut.astype('uint8'))\n",
    "    \n",
    "    return pencil_sketch_img"
   ]
  },
  {
   "cell_type": "code",
   "execution_count": 4,
   "id": "a9a7d7d6",
   "metadata": {},
   "outputs": [],
   "source": [
    "pencil_img=pencil_sketch_image(img,7,0.3)"
   ]
  },
  {
   "cell_type": "code",
   "execution_count": 5,
   "id": "644deee1",
   "metadata": {},
   "outputs": [],
   "source": [
    "#cv2.imshow('Orginal Image',img)\n",
    "#cv2.imshow('Gray Image',gray)\n",
    "#cv2.imshow('Gaussian Blur Image',blur)\n",
    "#cv2.imshow('Division Image',division_image)\n",
    "#cv2.imshow('Pencil_sketch Image',pencil_img)\n",
    "#cv2.waitKey()\n",
    "#cv2.destroyAllWindows()"
   ]
  },
  {
   "cell_type": "markdown",
   "id": "4fb54532",
   "metadata": {},
   "source": [
    "## GUI for pencil sketch"
   ]
  },
  {
   "cell_type": "code",
   "execution_count": 6,
   "id": "53fde4b2",
   "metadata": {},
   "outputs": [
    {
     "ename": "error",
     "evalue": "OpenCV(4.5.4-dev) D:\\a\\opencv-python\\opencv-python\\opencv\\modules\\highgui\\src\\window_w32.cpp:2581: error: (-27:Null pointer) NULL window: 'Control Window' in function 'cvGetTrackbarPos'\n",
     "output_type": "error",
     "traceback": [
      "\u001b[1;31m---------------------------------------------------------------------------\u001b[0m",
      "\u001b[1;31merror\u001b[0m                                     Traceback (most recent call last)",
      "\u001b[1;32m<ipython-input-6-c389c22e3730>\u001b[0m in \u001b[0;36m<module>\u001b[1;34m\u001b[0m\n\u001b[0;32m     11\u001b[0m \u001b[1;32mwhile\u001b[0m \u001b[1;32mTrue\u001b[0m\u001b[1;33m:\u001b[0m\u001b[1;33m\u001b[0m\u001b[1;33m\u001b[0m\u001b[0m\n\u001b[0;32m     12\u001b[0m     \u001b[1;31m# Take k-size\u001b[0m\u001b[1;33m\u001b[0m\u001b[1;33m\u001b[0m\u001b[1;33m\u001b[0m\u001b[0m\n\u001b[1;32m---> 13\u001b[1;33m     \u001b[0mk\u001b[0m\u001b[1;33m=\u001b[0m\u001b[0mcv2\u001b[0m\u001b[1;33m.\u001b[0m\u001b[0mgetTrackbarPos\u001b[0m\u001b[1;33m(\u001b[0m\u001b[1;34m'ksize'\u001b[0m\u001b[1;33m,\u001b[0m\u001b[1;34m'Control Window'\u001b[0m\u001b[1;33m)\u001b[0m\u001b[1;33m\u001b[0m\u001b[1;33m\u001b[0m\u001b[0m\n\u001b[0m\u001b[0;32m     14\u001b[0m \u001b[1;33m\u001b[0m\u001b[0m\n\u001b[0;32m     15\u001b[0m     \u001b[1;31m#k-size should be an odd number\u001b[0m\u001b[1;33m\u001b[0m\u001b[1;33m\u001b[0m\u001b[1;33m\u001b[0m\u001b[0m\n",
      "\u001b[1;31merror\u001b[0m: OpenCV(4.5.4-dev) D:\\a\\opencv-python\\opencv-python\\opencv\\modules\\highgui\\src\\window_w32.cpp:2581: error: (-27:Null pointer) NULL window: 'Control Window' in function 'cvGetTrackbarPos'\n"
     ]
    }
   ],
   "source": [
    "img=cv2.imread('./Project_4_Pencil_sketch_GUI/Project_Pencil_sketch_GUI/images/friends.jpg')\n",
    "\n",
    "\n",
    "# Create control window\n",
    "\n",
    "cv2.namedWindow('Control Window')\n",
    "cv2.createTrackbar('ksize','Control Window',1,100,(lambda x:None))\n",
    "cv2.createTrackbar('gamma','Control Window',1,100,(lambda x:None))\n",
    "\n",
    "\n",
    "while True:\n",
    "    # Take k-size\n",
    "    k=cv2.getTrackbarPos('ksize','control Window')\n",
    "    \n",
    "    #k-size should be an odd number\n",
    "    k=2*k+1\n",
    "    \n",
    "    # calibrate the gamma value\n",
    "    g=cv2.getTrackbarPos('gamma','Control Window')\n",
    "    g=g/100\n",
    "    pencil_image=pencil_sketch_image(img,k,g)\n",
    "    \n",
    "    if cv2.waitKey(1)==27:\n",
    "        break\n",
    "       \n",
    "    cv2.imshow('Friends',img)\n",
    "    cv2.imshow('Pencil Image',pencil_image)\n",
    "\n",
    "cv2.destroyAllWindows()"
   ]
  },
  {
   "cell_type": "code",
   "execution_count": null,
   "id": "dedc90bd",
   "metadata": {},
   "outputs": [],
   "source": []
  },
  {
   "cell_type": "code",
   "execution_count": null,
   "id": "2559c463",
   "metadata": {},
   "outputs": [],
   "source": []
  },
  {
   "cell_type": "code",
   "execution_count": null,
   "id": "16220b07",
   "metadata": {},
   "outputs": [],
   "source": []
  },
  {
   "cell_type": "code",
   "execution_count": null,
   "id": "d78406ca",
   "metadata": {},
   "outputs": [],
   "source": []
  },
  {
   "cell_type": "code",
   "execution_count": null,
   "id": "84844136",
   "metadata": {},
   "outputs": [],
   "source": []
  },
  {
   "cell_type": "code",
   "execution_count": null,
   "id": "ed04aada",
   "metadata": {},
   "outputs": [],
   "source": []
  },
  {
   "cell_type": "code",
   "execution_count": null,
   "id": "95a15760",
   "metadata": {},
   "outputs": [],
   "source": []
  }
 ],
 "metadata": {
  "kernelspec": {
   "display_name": "Python 3",
   "language": "python",
   "name": "python3"
  },
  "language_info": {
   "codemirror_mode": {
    "name": "ipython",
    "version": 3
   },
   "file_extension": ".py",
   "mimetype": "text/x-python",
   "name": "python",
   "nbconvert_exporter": "python",
   "pygments_lexer": "ipython3",
   "version": "3.8.8"
  }
 },
 "nbformat": 4,
 "nbformat_minor": 5
}
